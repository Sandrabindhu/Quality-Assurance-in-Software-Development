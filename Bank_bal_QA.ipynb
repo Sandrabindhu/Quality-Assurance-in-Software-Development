{
  "nbformat": 4,
  "nbformat_minor": 0,
  "metadata": {
    "colab": {
      "provenance": [],
      "authorship_tag": "ABX9TyNaS7US46BWBb3fFfSe0BDB",
      "include_colab_link": true
    },
    "kernelspec": {
      "name": "python3",
      "display_name": "Python 3"
    },
    "language_info": {
      "name": "python"
    }
  },
  "cells": [
    {
      "cell_type": "markdown",
      "metadata": {
        "id": "view-in-github",
        "colab_type": "text"
      },
      "source": [
        "<a href=\"https://colab.research.google.com/github/Sandrabindhu/Quality-Assurance-in-Software-Development/blob/main/Bank_bal_QA.ipynb\" target=\"_parent\"><img src=\"https://colab.research.google.com/assets/colab-badge.svg\" alt=\"Open In Colab\"/></a>"
      ]
    },
    {
      "cell_type": "code",
      "execution_count": null,
      "metadata": {
        "colab": {
          "base_uri": "https://localhost:8080/"
        },
        "id": "qhgcDROOEO8B",
        "outputId": "fe37389f-f727-4090-a975-0de95f52e4f6"
      },
      "outputs": [
        {
          "output_type": "stream",
          "name": "stdout",
          "text": [
            "Enter amount to deposit: ₹2000\n",
            "Money deposited successfully!\n",
            "Enter amount to withdraw: ₹300\n",
            "Money withdrawn successfully!\n",
            "Your current balance is: ₹ 1700\n"
          ]
        }
      ],
      "source": [
        "# take the deposite money from the bank and after withdrawing it have to show balance:\n",
        "\n",
        "bal = 0\n",
        "amt = int(input(\"Enter amount to deposit: ₹\"))\n",
        "bal += amt\n",
        "print(\"Money deposited successfully!\")\n",
        "\n",
        "withdraw = int(input(\"Enter amount to withdraw: ₹\"))\n",
        "if withdraw > bal:\n",
        "    print(\"Not enough balance.\")\n",
        "else:\n",
        "    bal -= withdraw\n",
        "    print(\"Money withdrawn successfully!\")\n",
        "\n",
        "print(\"Your current balance is: ₹\", bal)\n"
      ]
    },
    {
      "cell_type": "code",
      "source": [
        "\n"
      ],
      "metadata": {
        "id": "kttHqZGbFMCg"
      },
      "execution_count": null,
      "outputs": []
    }
  ]
}